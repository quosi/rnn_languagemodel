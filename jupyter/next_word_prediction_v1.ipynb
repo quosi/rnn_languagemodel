{
 "cells": [
  {
   "cell_type": "markdown",
   "metadata": {
    "id": "OxeQtQIbgY2U"
   },
   "source": [
    "# 1. Importing Libraries"
   ]
  },
  {
   "cell_type": "code",
   "execution_count": 3,
   "metadata": {
    "id": "ZlkF8wITgblR"
   },
   "outputs": [
    {
     "name": "stdout",
     "output_type": "stream",
     "text": [
      "WARNING:tensorflow:From C:\\Users\\heike.quosdorf\\AppData\\Local\\anaconda3\\lib\\site-packages\\keras\\src\\losses.py:2976: The name tf.losses.sparse_softmax_cross_entropy is deprecated. Please use tf.compat.v1.losses.sparse_softmax_cross_entropy instead.\n",
      "\n"
     ]
    }
   ],
   "source": [
    "import numpy as np\n",
    "import tensorflow as tf\n",
    "from tensorflow.keras.preprocessing.text import Tokenizer\n",
    "from tensorflow.keras.preprocessing.sequence import pad_sequences\n",
    "from tensorflow.keras.models import Sequential\n",
    "from tensorflow.keras.layers import Embedding, LSTM, Dense"
   ]
  },
  {
   "cell_type": "code",
   "execution_count": 2,
   "metadata": {},
   "outputs": [
    {
     "name": "stdout",
     "output_type": "stream",
     "text": [
      "Collecting tensorflow\n",
      "  Downloading tensorflow-2.15.0-cp310-cp310-win_amd64.whl (2.1 kB)\n",
      "Collecting tensorflow-intel==2.15.0\n",
      "  Downloading tensorflow_intel-2.15.0-cp310-cp310-win_amd64.whl (300.9 MB)\n",
      "     -------------------------------------- 300.9/300.9 MB 5.5 MB/s eta 0:00:00\n",
      "Collecting keras<2.16,>=2.15.0\n",
      "  Downloading keras-2.15.0-py3-none-any.whl (1.7 MB)\n",
      "     ---------------------------------------- 1.7/1.7 MB 10.9 MB/s eta 0:00:00\n",
      "Collecting astunparse>=1.6.0\n",
      "  Downloading astunparse-1.6.3-py2.py3-none-any.whl (12 kB)\n",
      "Collecting gast!=0.5.0,!=0.5.1,!=0.5.2,>=0.2.1\n",
      "  Downloading gast-0.5.4-py3-none-any.whl (19 kB)\n",
      "Requirement already satisfied: typing-extensions>=3.6.6 in c:\\users\\heike.quosdorf\\appdata\\local\\anaconda3\\lib\\site-packages (from tensorflow-intel==2.15.0->tensorflow) (4.4.0)\n",
      "Collecting termcolor>=1.1.0\n",
      "  Downloading termcolor-2.4.0-py3-none-any.whl (7.7 kB)\n",
      "Collecting tensorflow-estimator<2.16,>=2.15.0\n",
      "  Downloading tensorflow_estimator-2.15.0-py2.py3-none-any.whl (441 kB)\n",
      "     -------------------------------------- 442.0/442.0 kB 9.2 MB/s eta 0:00:00\n",
      "Collecting tensorboard<2.16,>=2.15\n",
      "  Downloading tensorboard-2.15.1-py3-none-any.whl (5.5 MB)\n",
      "     ---------------------------------------- 5.5/5.5 MB 9.1 MB/s eta 0:00:00\n",
      "Requirement already satisfied: wrapt<1.15,>=1.11.0 in c:\\users\\heike.quosdorf\\appdata\\local\\anaconda3\\lib\\site-packages (from tensorflow-intel==2.15.0->tensorflow) (1.14.1)\n",
      "Collecting absl-py>=1.0.0\n",
      "  Downloading absl_py-2.0.0-py3-none-any.whl (130 kB)\n",
      "     -------------------------------------- 130.2/130.2 kB 8.0 MB/s eta 0:00:00\n",
      "Collecting ml-dtypes~=0.2.0\n",
      "  Downloading ml_dtypes-0.2.0-cp310-cp310-win_amd64.whl (938 kB)\n",
      "     ------------------------------------- 938.6/938.6 kB 10.0 MB/s eta 0:00:00\n",
      "Collecting google-pasta>=0.1.1\n",
      "  Downloading google_pasta-0.2.0-py3-none-any.whl (57 kB)\n",
      "     ---------------------------------------- 57.5/57.5 kB ? eta 0:00:00\n",
      "Collecting libclang>=13.0.0\n",
      "  Downloading libclang-16.0.6-py2.py3-none-win_amd64.whl (24.4 MB)\n",
      "     ---------------------------------------- 24.4/24.4 MB 8.5 MB/s eta 0:00:00\n",
      "Collecting protobuf!=4.21.0,!=4.21.1,!=4.21.2,!=4.21.3,!=4.21.4,!=4.21.5,<5.0.0dev,>=3.20.3\n",
      "  Downloading protobuf-4.25.1-cp310-abi3-win_amd64.whl (413 kB)\n",
      "     -------------------------------------- 413.4/413.4 kB 8.6 MB/s eta 0:00:00\n",
      "Requirement already satisfied: packaging in c:\\users\\heike.quosdorf\\appdata\\local\\anaconda3\\lib\\site-packages (from tensorflow-intel==2.15.0->tensorflow) (22.0)\n",
      "Collecting opt-einsum>=2.3.2\n",
      "  Downloading opt_einsum-3.3.0-py3-none-any.whl (65 kB)\n",
      "     ---------------------------------------- 65.5/65.5 kB ? eta 0:00:00\n",
      "Requirement already satisfied: setuptools in c:\\users\\heike.quosdorf\\appdata\\local\\anaconda3\\lib\\site-packages (from tensorflow-intel==2.15.0->tensorflow) (65.6.3)\n",
      "Requirement already satisfied: six>=1.12.0 in c:\\users\\heike.quosdorf\\appdata\\local\\anaconda3\\lib\\site-packages (from tensorflow-intel==2.15.0->tensorflow) (1.16.0)\n",
      "Requirement already satisfied: h5py>=2.9.0 in c:\\users\\heike.quosdorf\\appdata\\local\\anaconda3\\lib\\site-packages (from tensorflow-intel==2.15.0->tensorflow) (3.7.0)\n",
      "Collecting flatbuffers>=23.5.26\n",
      "  Downloading flatbuffers-23.5.26-py2.py3-none-any.whl (26 kB)\n",
      "Requirement already satisfied: numpy<2.0.0,>=1.23.5 in c:\\users\\heike.quosdorf\\appdata\\local\\anaconda3\\lib\\site-packages (from tensorflow-intel==2.15.0->tensorflow) (1.23.5)\n",
      "Collecting tensorflow-io-gcs-filesystem>=0.23.1\n",
      "  Downloading tensorflow_io_gcs_filesystem-0.31.0-cp310-cp310-win_amd64.whl (1.5 MB)\n",
      "     ---------------------------------------- 1.5/1.5 MB 9.4 MB/s eta 0:00:00\n",
      "Collecting grpcio<2.0,>=1.24.3\n",
      "  Downloading grpcio-1.60.0-cp310-cp310-win_amd64.whl (3.7 MB)\n",
      "     ---------------------------------------- 3.7/3.7 MB 8.7 MB/s eta 0:00:00\n",
      "Requirement already satisfied: wheel<1.0,>=0.23.0 in c:\\users\\heike.quosdorf\\appdata\\local\\anaconda3\\lib\\site-packages (from astunparse>=1.6.0->tensorflow-intel==2.15.0->tensorflow) (0.38.4)\n",
      "Collecting google-auth-oauthlib<2,>=0.5\n",
      "  Downloading google_auth_oauthlib-1.2.0-py2.py3-none-any.whl (24 kB)\n",
      "Collecting google-auth<3,>=1.6.3\n",
      "  Downloading google_auth-2.26.1-py2.py3-none-any.whl (186 kB)\n",
      "     ------------------------------------- 186.4/186.4 kB 11.0 MB/s eta 0:00:00\n",
      "Requirement already satisfied: requests<3,>=2.21.0 in c:\\users\\heike.quosdorf\\appdata\\local\\anaconda3\\lib\\site-packages (from tensorboard<2.16,>=2.15->tensorflow-intel==2.15.0->tensorflow) (2.28.1)\n",
      "Requirement already satisfied: werkzeug>=1.0.1 in c:\\users\\heike.quosdorf\\appdata\\local\\anaconda3\\lib\\site-packages (from tensorboard<2.16,>=2.15->tensorflow-intel==2.15.0->tensorflow) (2.2.2)\n",
      "Collecting protobuf!=4.21.0,!=4.21.1,!=4.21.2,!=4.21.3,!=4.21.4,!=4.21.5,<5.0.0dev,>=3.20.3\n",
      "  Downloading protobuf-4.23.4-cp310-abi3-win_amd64.whl (422 kB)\n",
      "     -------------------------------------- 422.5/422.5 kB 6.6 MB/s eta 0:00:00\n",
      "Requirement already satisfied: markdown>=2.6.8 in c:\\users\\heike.quosdorf\\appdata\\local\\anaconda3\\lib\\site-packages (from tensorboard<2.16,>=2.15->tensorflow-intel==2.15.0->tensorflow) (3.4.1)\n",
      "Collecting tensorboard-data-server<0.8.0,>=0.7.0\n",
      "  Downloading tensorboard_data_server-0.7.2-py3-none-any.whl (2.4 kB)\n",
      "Collecting cachetools<6.0,>=2.0.0\n",
      "  Downloading cachetools-5.3.2-py3-none-any.whl (9.3 kB)\n",
      "Requirement already satisfied: pyasn1-modules>=0.2.1 in c:\\users\\heike.quosdorf\\appdata\\local\\anaconda3\\lib\\site-packages (from google-auth<3,>=1.6.3->tensorboard<2.16,>=2.15->tensorflow-intel==2.15.0->tensorflow) (0.2.8)\n",
      "Collecting rsa<5,>=3.1.4\n",
      "  Downloading rsa-4.9-py3-none-any.whl (34 kB)\n",
      "Collecting requests-oauthlib>=0.7.0\n",
      "  Downloading requests_oauthlib-1.3.1-py2.py3-none-any.whl (23 kB)\n",
      "Requirement already satisfied: charset-normalizer<3,>=2 in c:\\users\\heike.quosdorf\\appdata\\local\\anaconda3\\lib\\site-packages (from requests<3,>=2.21.0->tensorboard<2.16,>=2.15->tensorflow-intel==2.15.0->tensorflow) (2.0.4)\n",
      "Requirement already satisfied: certifi>=2017.4.17 in c:\\users\\heike.quosdorf\\appdata\\local\\anaconda3\\lib\\site-packages (from requests<3,>=2.21.0->tensorboard<2.16,>=2.15->tensorflow-intel==2.15.0->tensorflow) (2022.12.7)\n",
      "Requirement already satisfied: idna<4,>=2.5 in c:\\users\\heike.quosdorf\\appdata\\local\\anaconda3\\lib\\site-packages (from requests<3,>=2.21.0->tensorboard<2.16,>=2.15->tensorflow-intel==2.15.0->tensorflow) (3.4)\n",
      "Requirement already satisfied: urllib3<1.27,>=1.21.1 in c:\\users\\heike.quosdorf\\appdata\\local\\anaconda3\\lib\\site-packages (from requests<3,>=2.21.0->tensorboard<2.16,>=2.15->tensorflow-intel==2.15.0->tensorflow) (1.26.14)\n",
      "Requirement already satisfied: MarkupSafe>=2.1.1 in c:\\users\\heike.quosdorf\\appdata\\local\\anaconda3\\lib\\site-packages (from werkzeug>=1.0.1->tensorboard<2.16,>=2.15->tensorflow-intel==2.15.0->tensorflow) (2.1.1)\n",
      "Requirement already satisfied: pyasn1<0.5.0,>=0.4.6 in c:\\users\\heike.quosdorf\\appdata\\local\\anaconda3\\lib\\site-packages (from pyasn1-modules>=0.2.1->google-auth<3,>=1.6.3->tensorboard<2.16,>=2.15->tensorflow-intel==2.15.0->tensorflow) (0.4.8)\n",
      "Collecting oauthlib>=3.0.0\n",
      "  Downloading oauthlib-3.2.2-py3-none-any.whl (151 kB)\n",
      "     -------------------------------------- 151.7/151.7 kB 8.8 MB/s eta 0:00:00\n",
      "Installing collected packages: libclang, flatbuffers, termcolor, tensorflow-io-gcs-filesystem, tensorflow-estimator, tensorboard-data-server, rsa, protobuf, opt-einsum, oauthlib, ml-dtypes, keras, grpcio, google-pasta, gast, cachetools, astunparse, absl-py, requests-oauthlib, google-auth, google-auth-oauthlib, tensorboard, tensorflow-intel, tensorflow\n",
      "Successfully installed absl-py-2.0.0 astunparse-1.6.3 cachetools-5.3.2 flatbuffers-23.5.26 gast-0.5.4 google-auth-2.26.1 google-auth-oauthlib-1.2.0 google-pasta-0.2.0 grpcio-1.60.0 keras-2.15.0 libclang-16.0.6 ml-dtypes-0.2.0 oauthlib-3.2.2 opt-einsum-3.3.0 protobuf-4.23.4 requests-oauthlib-1.3.1 rsa-4.9 tensorboard-2.15.1 tensorboard-data-server-0.7.2 tensorflow-2.15.0 tensorflow-estimator-2.15.0 tensorflow-intel-2.15.0 tensorflow-io-gcs-filesystem-0.31.0 termcolor-2.4.0\n"
     ]
    }
   ],
   "source": [
    "!pip install tensorflow"
   ]
  },
  {
   "cell_type": "markdown",
   "metadata": {
    "id": "co3_w7hkgp1B"
   },
   "source": [
    "# 2. Loading data"
   ]
  },
  {
   "cell_type": "code",
   "execution_count": 64,
   "metadata": {
    "id": "nR83EmnwgriF"
   },
   "outputs": [],
   "source": [
    "with open('Drei-Meister-Balzac-Dickens-Dostojewski_Stefan-Zweig_Projekt-Gutenberg_36389-8.txt', 'r') as file:\n",
    "    text = file.read()"
   ]
  },
  {
   "cell_type": "markdown",
   "metadata": {
    "id": "GEOn2FvbgvOZ"
   },
   "source": [
    "# 3. Tokenizing the text to create sequence of words"
   ]
  },
  {
   "cell_type": "code",
   "execution_count": 65,
   "metadata": {
    "id": "ZJz48nfXgynf"
   },
   "outputs": [],
   "source": [
    "tokenizer = Tokenizer()\n",
    "tokenizer.fit_on_texts([text])\n",
    "total_words = len(tokenizer.word_index) + 1"
   ]
  },
  {
   "cell_type": "markdown",
   "metadata": {
    "id": "b9tHzFHog4_Q"
   },
   "source": [
    "# 4. Creating input-output pairs"
   ]
  },
  {
   "cell_type": "code",
   "execution_count": 66,
   "metadata": {
    "id": "7CJ-tqCig9TT"
   },
   "outputs": [],
   "source": [
    "input_sequences = []\n",
    "for line in text.split('\\n'):\n",
    "    token_list = tokenizer.texts_to_sequences([line])[0]\n",
    "    for i in range(1,len(token_list)):\n",
    "        n_gram_sequence = token_list[:i+1]\n",
    "        input_sequences.append(n_gram_sequence)"
   ]
  },
  {
   "cell_type": "markdown",
   "metadata": {
    "id": "UZ5nl_mkhBtC"
   },
   "source": [
    "# 5. Padding input sequences to have equal length"
   ]
  },
  {
   "cell_type": "code",
   "execution_count": 67,
   "metadata": {
    "id": "I9ATEuyVhFJw"
   },
   "outputs": [],
   "source": [
    "max_sequence_len = max([len(seq) for seq in input_sequences])\n",
    "input_sequences = np.array(pad_sequences(input_sequences,maxlen=max_sequence_len, padding='pre'))"
   ]
  },
  {
   "cell_type": "markdown",
   "metadata": {
    "id": "IWGd-m5DhIfJ"
   },
   "source": [
    "# 6. Splitting sequences into input and output"
   ]
  },
  {
   "cell_type": "code",
   "execution_count": 68,
   "metadata": {
    "id": "wX9CPhSQhK3m"
   },
   "outputs": [],
   "source": [
    "X = input_sequences[:,:-1]\n",
    "y = input_sequences[:,-1]"
   ]
  },
  {
   "cell_type": "code",
   "execution_count": 69,
   "metadata": {},
   "outputs": [
    {
     "data": {
      "text/plain": [
       "True"
      ]
     },
     "execution_count": 69,
     "metadata": {},
     "output_type": "execute_result"
    }
   ],
   "source": [
    "len(input_sequences[:,:-1]) == len(input_sequences) # ????"
   ]
  },
  {
   "cell_type": "markdown",
   "metadata": {
    "id": "-Lj1j_lnhSSe"
   },
   "source": [
    "# 7. Converting the output to one-hot encode vectors"
   ]
  },
  {
   "cell_type": "code",
   "execution_count": 70,
   "metadata": {
    "id": "pHzcSwRKhUn0"
   },
   "outputs": [],
   "source": [
    "y = np.array(tf.keras.utils.to_categorical(y, num_classes=total_words))"
   ]
  },
  {
   "cell_type": "markdown",
   "metadata": {
    "id": "zIYGqoaPhZOB"
   },
   "source": [
    "# 8. Building the Model as RNN & FFNN"
   ]
  },
  {
   "cell_type": "markdown",
   "metadata": {},
   "source": [
    "# !!! Choose 8.1 or 8.2. Don't run both !!!"
   ]
  },
  {
   "cell_type": "markdown",
   "metadata": {},
   "source": [
    "## 8.1 building a RNN Architecture:"
   ]
  },
  {
   "cell_type": "code",
   "execution_count": 71,
   "metadata": {
    "colab": {
     "base_uri": "https://localhost:8080/"
    },
    "id": "k2OU6vZ7hb_1",
    "outputId": "9cbab916-5de8-4370-9a20-41f097954262"
   },
   "outputs": [
    {
     "name": "stdout",
     "output_type": "stream",
     "text": [
      "Model: \"sequential_7\"\n",
      "_________________________________________________________________\n",
      " Layer (type)                Output Shape              Param #   \n",
      "=================================================================\n",
      " embedding_7 (Embedding)     (None, 15, 100)           1156800   \n",
      "                                                                 \n",
      " lstm_1 (LSTM)               (None, 150)               150600    \n",
      "                                                                 \n",
      " dense_12 (Dense)            (None, 11568)             1746768   \n",
      "                                                                 \n",
      "=================================================================\n",
      "Total params: 3054168 (11.65 MB)\n",
      "Trainable params: 3054168 (11.65 MB)\n",
      "Non-trainable params: 0 (0.00 Byte)\n",
      "_________________________________________________________________\n",
      "None\n"
     ]
    }
   ],
   "source": [
    "model = Sequential()\n",
    "model.add(Embedding(total_words, 100,input_length = max_sequence_len-1))\n",
    "model.add(LSTM(150))\n",
    "model.add(Dense(total_words, activation='softmax'))\n",
    "print(model.summary())"
   ]
  },
  {
   "cell_type": "markdown",
   "metadata": {},
   "source": [
    "## 8.2 building a FFNN Architecture:"
   ]
  },
  {
   "cell_type": "code",
   "execution_count": 56,
   "metadata": {},
   "outputs": [],
   "source": [
    "nr_unique_words = total_words"
   ]
  },
  {
   "cell_type": "code",
   "execution_count": 62,
   "metadata": {},
   "outputs": [
    {
     "name": "stdout",
     "output_type": "stream",
     "text": [
      "Model: \"sequential_6\"\n",
      "_________________________________________________________________\n",
      " Layer (type)                Output Shape              Param #   \n",
      "=================================================================\n",
      " embedding_6 (Embedding)     (None, 15, 100)           1156800   \n",
      "                                                                 \n",
      " dense_10 (Dense)            (None, 15, 150)           15150     \n",
      "                                                                 \n",
      " dense_11 (Dense)            (None, 15, 11568)         1746768   \n",
      "                                                                 \n",
      "=================================================================\n",
      "Total params: 2918718 (11.13 MB)\n",
      "Trainable params: 2918718 (11.13 MB)\n",
      "Non-trainable params: 0 (0.00 Byte)\n",
      "_________________________________________________________________\n",
      "None\n"
     ]
    }
   ],
   "source": [
    "model = Sequential()\n",
    "model.add(Embedding(total_words, 100,input_length = max_sequence_len-1))\n",
    "# model.add(Dense(256, input_shape=(784,), activation=\"sigmoid\"))\n",
    "model.add(Dense(150, activation=\"sigmoid\"))\n",
    "model.add(Dense(total_words, activation=\"softmax\"))\n",
    "print(model.summary())"
   ]
  },
  {
   "cell_type": "markdown",
   "metadata": {
    "id": "_fOJJSxihi8n"
   },
   "source": [
    "# 9. Compile and Train the model"
   ]
  },
  {
   "cell_type": "markdown",
   "metadata": {},
   "source": [
    "# !!! RUNNING RNN MODEL \\/"
   ]
  },
  {
   "cell_type": "code",
   "execution_count": 72,
   "metadata": {
    "colab": {
     "base_uri": "https://localhost:8080/"
    },
    "id": "Fcywfb9Yhkjy",
    "outputId": "d62ea264-0ed8-4af9-c120-687ca5f54836"
   },
   "outputs": [
    {
     "name": "stdout",
     "output_type": "stream",
     "text": [
      "Epoch 1/100\n",
      "1611/1611 [==============================] - 44s 27ms/step - loss: 7.4874 - accuracy: 0.0352\n",
      "Epoch 2/100\n",
      "1611/1611 [==============================] - 43s 27ms/step - loss: 6.8495 - accuracy: 0.0464\n",
      "Epoch 3/100\n",
      "1611/1611 [==============================] - 43s 26ms/step - loss: 6.4564 - accuracy: 0.0611\n",
      "Epoch 4/100\n",
      "1611/1611 [==============================] - 43s 27ms/step - loss: 6.0587 - accuracy: 0.0762\n",
      "Epoch 5/100\n",
      "1611/1611 [==============================] - 43s 27ms/step - loss: 5.6185 - accuracy: 0.0945\n",
      "Epoch 6/100\n",
      "1611/1611 [==============================] - 43s 26ms/step - loss: 5.1580 - accuracy: 0.1178\n",
      "Epoch 7/100\n",
      "1611/1611 [==============================] - 43s 26ms/step - loss: 4.6943 - accuracy: 0.1568\n",
      "Epoch 8/100\n",
      "1611/1611 [==============================] - 42s 26ms/step - loss: 4.2392 - accuracy: 0.2096\n",
      "Epoch 9/100\n",
      "1611/1611 [==============================] - 43s 26ms/step - loss: 3.8031 - accuracy: 0.2734\n",
      "Epoch 10/100\n",
      "1611/1611 [==============================] - 43s 27ms/step - loss: 3.3948 - accuracy: 0.3442\n",
      "Epoch 11/100\n",
      "1611/1611 [==============================] - 46s 28ms/step - loss: 3.0191 - accuracy: 0.4110\n",
      "Epoch 12/100\n",
      "1611/1611 [==============================] - 46s 28ms/step - loss: 2.6806 - accuracy: 0.4718\n",
      "Epoch 13/100\n",
      "1611/1611 [==============================] - 46s 28ms/step - loss: 2.3794 - accuracy: 0.5305\n",
      "Epoch 14/100\n",
      "1611/1611 [==============================] - 46s 28ms/step - loss: 2.1100 - accuracy: 0.5819\n",
      "Epoch 15/100\n",
      "1611/1611 [==============================] - 46s 29ms/step - loss: 1.8695 - accuracy: 0.6288\n",
      "Epoch 16/100\n",
      "1611/1611 [==============================] - 45s 28ms/step - loss: 1.6568 - accuracy: 0.6706\n",
      "Epoch 17/100\n",
      "1611/1611 [==============================] - 45s 28ms/step - loss: 1.4681 - accuracy: 0.7100\n",
      "Epoch 18/100\n",
      "1611/1611 [==============================] - 45s 28ms/step - loss: 1.3050 - accuracy: 0.7432\n",
      "Epoch 19/100\n",
      "1611/1611 [==============================] - 45s 28ms/step - loss: 1.1580 - accuracy: 0.7706\n",
      "Epoch 20/100\n",
      "1611/1611 [==============================] - 46s 29ms/step - loss: 1.0340 - accuracy: 0.7978\n",
      "Epoch 21/100\n",
      "1611/1611 [==============================] - 46s 28ms/step - loss: 0.9222 - accuracy: 0.8190\n",
      "Epoch 22/100\n",
      "1611/1611 [==============================] - 46s 28ms/step - loss: 0.8264 - accuracy: 0.8394\n",
      "Epoch 23/100\n",
      "1611/1611 [==============================] - 46s 28ms/step - loss: 0.7433 - accuracy: 0.8547\n",
      "Epoch 24/100\n",
      "1611/1611 [==============================] - 46s 29ms/step - loss: 0.6718 - accuracy: 0.8669\n",
      "Epoch 25/100\n",
      "1611/1611 [==============================] - 45s 28ms/step - loss: 0.6114 - accuracy: 0.8795\n",
      "Epoch 26/100\n",
      "1611/1611 [==============================] - 45s 28ms/step - loss: 0.5566 - accuracy: 0.8901\n",
      "Epoch 27/100\n",
      "1611/1611 [==============================] - 44s 27ms/step - loss: 0.5103 - accuracy: 0.8979\n",
      "Epoch 28/100\n",
      "1611/1611 [==============================] - 44s 28ms/step - loss: 0.4724 - accuracy: 0.9053\n",
      "Epoch 29/100\n",
      "1611/1611 [==============================] - 43s 26ms/step - loss: 0.4398 - accuracy: 0.9093\n",
      "Epoch 30/100\n",
      "1611/1611 [==============================] - 43s 27ms/step - loss: 0.4120 - accuracy: 0.9157\n",
      "Epoch 31/100\n",
      "1611/1611 [==============================] - 42s 26ms/step - loss: 0.3892 - accuracy: 0.9180\n",
      "Epoch 32/100\n",
      "1611/1611 [==============================] - 42s 26ms/step - loss: 0.3695 - accuracy: 0.9206\n",
      "Epoch 33/100\n",
      "1611/1611 [==============================] - 43s 27ms/step - loss: 0.3532 - accuracy: 0.9219\n",
      "Epoch 34/100\n",
      "1611/1611 [==============================] - 42s 26ms/step - loss: 0.3392 - accuracy: 0.9251\n",
      "Epoch 35/100\n",
      "1611/1611 [==============================] - 43s 26ms/step - loss: 0.3277 - accuracy: 0.9256\n",
      "Epoch 36/100\n",
      "1611/1611 [==============================] - 44s 27ms/step - loss: 0.3159 - accuracy: 0.9270\n",
      "Epoch 37/100\n",
      "1611/1611 [==============================] - 45s 28ms/step - loss: 0.3077 - accuracy: 0.9277\n",
      "Epoch 38/100\n",
      "1611/1611 [==============================] - 44s 27ms/step - loss: 0.3051 - accuracy: 0.9270\n",
      "Epoch 39/100\n",
      "1611/1611 [==============================] - 45s 28ms/step - loss: 0.2944 - accuracy: 0.9289\n",
      "Epoch 40/100\n",
      "1611/1611 [==============================] - 46s 29ms/step - loss: 0.2893 - accuracy: 0.9295\n",
      "Epoch 41/100\n",
      "1611/1611 [==============================] - 45s 28ms/step - loss: 0.2856 - accuracy: 0.9290\n",
      "Epoch 42/100\n",
      "1611/1611 [==============================] - 46s 28ms/step - loss: 0.2827 - accuracy: 0.9291\n",
      "Epoch 43/100\n",
      "1611/1611 [==============================] - 43s 27ms/step - loss: 0.2792 - accuracy: 0.9292\n",
      "Epoch 44/100\n",
      "1611/1611 [==============================] - 46s 28ms/step - loss: 0.2754 - accuracy: 0.9290\n",
      "Epoch 45/100\n",
      "1611/1611 [==============================] - 45s 28ms/step - loss: 0.2707 - accuracy: 0.9300\n",
      "Epoch 46/100\n",
      "1611/1611 [==============================] - 45s 28ms/step - loss: 0.2671 - accuracy: 0.9305\n",
      "Epoch 47/100\n",
      "1611/1611 [==============================] - 46s 28ms/step - loss: 0.2664 - accuracy: 0.9301\n",
      "Epoch 48/100\n",
      "1611/1611 [==============================] - 45s 28ms/step - loss: 0.2683 - accuracy: 0.9295\n",
      "Epoch 49/100\n",
      "1611/1611 [==============================] - 45s 28ms/step - loss: 0.2633 - accuracy: 0.9298\n",
      "Epoch 50/100\n",
      "1611/1611 [==============================] - 45s 28ms/step - loss: 0.2605 - accuracy: 0.9305\n",
      "Epoch 51/100\n",
      "1611/1611 [==============================] - 45s 28ms/step - loss: 0.2593 - accuracy: 0.9306\n",
      "Epoch 52/100\n",
      "1611/1611 [==============================] - 44s 28ms/step - loss: 0.2588 - accuracy: 0.9296\n",
      "Epoch 53/100\n",
      "1611/1611 [==============================] - 45s 28ms/step - loss: 0.2592 - accuracy: 0.9301\n",
      "Epoch 54/100\n",
      "1611/1611 [==============================] - 45s 28ms/step - loss: 0.2548 - accuracy: 0.9305\n",
      "Epoch 55/100\n",
      "1611/1611 [==============================] - 47s 29ms/step - loss: 0.2524 - accuracy: 0.9308\n",
      "Epoch 56/100\n",
      "1611/1611 [==============================] - 45s 28ms/step - loss: 0.2561 - accuracy: 0.9298\n",
      "Epoch 57/100\n",
      "1611/1611 [==============================] - 45s 28ms/step - loss: 0.2526 - accuracy: 0.9307\n",
      "Epoch 58/100\n",
      "1611/1611 [==============================] - 44s 27ms/step - loss: 0.2508 - accuracy: 0.9304\n",
      "Epoch 59/100\n",
      "1611/1611 [==============================] - 46s 28ms/step - loss: 0.2532 - accuracy: 0.9303\n",
      "Epoch 60/100\n",
      "1611/1611 [==============================] - 45s 28ms/step - loss: 0.2508 - accuracy: 0.9301\n",
      "Epoch 61/100\n",
      "1611/1611 [==============================] - 44s 27ms/step - loss: 0.2481 - accuracy: 0.9306\n",
      "Epoch 62/100\n",
      "1611/1611 [==============================] - 45s 28ms/step - loss: 0.2491 - accuracy: 0.9301\n",
      "Epoch 63/100\n",
      "1611/1611 [==============================] - 46s 28ms/step - loss: 0.2473 - accuracy: 0.9303\n",
      "Epoch 64/100\n",
      "1611/1611 [==============================] - 44s 27ms/step - loss: 0.2460 - accuracy: 0.9309\n",
      "Epoch 65/100\n",
      "1611/1611 [==============================] - 45s 28ms/step - loss: 0.2444 - accuracy: 0.9307\n",
      "Epoch 66/100\n",
      "1611/1611 [==============================] - 45s 28ms/step - loss: 0.2464 - accuracy: 0.9303\n",
      "Epoch 67/100\n",
      "1611/1611 [==============================] - 46s 28ms/step - loss: 0.2478 - accuracy: 0.9298\n",
      "Epoch 68/100\n",
      "1611/1611 [==============================] - 44s 28ms/step - loss: 0.2460 - accuracy: 0.9301\n",
      "Epoch 69/100\n",
      "1611/1611 [==============================] - 44s 28ms/step - loss: 0.2423 - accuracy: 0.9304\n",
      "Epoch 70/100\n",
      "1611/1611 [==============================] - 45s 28ms/step - loss: 0.2419 - accuracy: 0.9307\n",
      "Epoch 71/100\n",
      "1611/1611 [==============================] - 46s 29ms/step - loss: 0.2437 - accuracy: 0.9297\n",
      "Epoch 72/100\n",
      "1611/1611 [==============================] - 44s 27ms/step - loss: 0.2428 - accuracy: 0.9297\n",
      "Epoch 73/100\n",
      "1611/1611 [==============================] - 46s 28ms/step - loss: 0.2414 - accuracy: 0.9303\n",
      "Epoch 74/100\n",
      "1611/1611 [==============================] - 46s 29ms/step - loss: 0.2447 - accuracy: 0.9297\n",
      "Epoch 75/100\n",
      "1611/1611 [==============================] - 44s 27ms/step - loss: 0.2418 - accuracy: 0.9301\n",
      "Epoch 76/100\n",
      "1611/1611 [==============================] - 45s 28ms/step - loss: 0.2372 - accuracy: 0.9313\n",
      "Epoch 77/100\n",
      "1611/1611 [==============================] - 44s 27ms/step - loss: 0.2400 - accuracy: 0.9306\n",
      "Epoch 78/100\n"
     ]
    },
    {
     "name": "stdout",
     "output_type": "stream",
     "text": [
      "1611/1611 [==============================] - 44s 27ms/step - loss: 0.2420 - accuracy: 0.9299\n",
      "Epoch 79/100\n",
      "1611/1611 [==============================] - 46s 28ms/step - loss: 0.2416 - accuracy: 0.9301\n",
      "Epoch 80/100\n",
      "1611/1611 [==============================] - 45s 28ms/step - loss: 0.2407 - accuracy: 0.9301\n",
      "Epoch 81/100\n",
      "1611/1611 [==============================] - 45s 28ms/step - loss: 0.2375 - accuracy: 0.9312\n",
      "Epoch 82/100\n",
      "1611/1611 [==============================] - 45s 28ms/step - loss: 0.2372 - accuracy: 0.9310\n",
      "Epoch 83/100\n",
      "1611/1611 [==============================] - 45s 28ms/step - loss: 0.2384 - accuracy: 0.9303\n",
      "Epoch 84/100\n",
      "1611/1611 [==============================] - 45s 28ms/step - loss: 0.2405 - accuracy: 0.9295\n",
      "Epoch 85/100\n",
      "1611/1611 [==============================] - 44s 27ms/step - loss: 0.2380 - accuracy: 0.9305\n",
      "Epoch 86/100\n",
      "1611/1611 [==============================] - 45s 28ms/step - loss: 0.2351 - accuracy: 0.9312\n",
      "Epoch 87/100\n",
      "1611/1611 [==============================] - 46s 28ms/step - loss: 0.2352 - accuracy: 0.9309\n",
      "Epoch 88/100\n",
      "1611/1611 [==============================] - 45s 28ms/step - loss: 0.2362 - accuracy: 0.9306\n",
      "Epoch 89/100\n",
      "1611/1611 [==============================] - 45s 28ms/step - loss: 0.2374 - accuracy: 0.9306\n",
      "Epoch 90/100\n",
      "1611/1611 [==============================] - 43s 27ms/step - loss: 0.2406 - accuracy: 0.9291\n",
      "Epoch 91/100\n",
      "1611/1611 [==============================] - 45s 28ms/step - loss: 0.2384 - accuracy: 0.9300\n",
      "Epoch 92/100\n",
      "1611/1611 [==============================] - 45s 28ms/step - loss: 0.2336 - accuracy: 0.9305\n",
      "Epoch 93/100\n",
      "1611/1611 [==============================] - 45s 28ms/step - loss: 0.2331 - accuracy: 0.9309\n",
      "Epoch 94/100\n",
      "1611/1611 [==============================] - 44s 27ms/step - loss: 0.2345 - accuracy: 0.9310\n",
      "Epoch 95/100\n",
      "1611/1611 [==============================] - 45s 28ms/step - loss: 0.2366 - accuracy: 0.9305\n",
      "Epoch 96/100\n",
      "1611/1611 [==============================] - 45s 28ms/step - loss: 0.2388 - accuracy: 0.9295\n",
      "Epoch 97/100\n",
      "1611/1611 [==============================] - 45s 28ms/step - loss: 0.2369 - accuracy: 0.9300\n",
      "Epoch 98/100\n",
      "1611/1611 [==============================] - 46s 29ms/step - loss: 0.2320 - accuracy: 0.9308\n",
      "Epoch 99/100\n",
      "1611/1611 [==============================] - 44s 28ms/step - loss: 0.2324 - accuracy: 0.9310\n",
      "Epoch 100/100\n",
      "1611/1611 [==============================] - 45s 28ms/step - loss: 0.2337 - accuracy: 0.9301\n"
     ]
    },
    {
     "data": {
      "text/plain": [
       "<keras.src.callbacks.History at 0x19ab7418df0>"
      ]
     },
     "execution_count": 72,
     "metadata": {},
     "output_type": "execute_result"
    }
   ],
   "source": [
    "model.compile(loss='categorical_crossentropy',optimizer='adam',metrics=['accuracy'])\n",
    "model.fit(X,y,epochs=100,verbose=1)"
   ]
  },
  {
   "cell_type": "markdown",
   "metadata": {
    "id": "A1yQdK-Ztxfc"
   },
   "source": [
    "# 10. Saving the model"
   ]
  },
  {
   "cell_type": "code",
   "execution_count": 73,
   "metadata": {
    "colab": {
     "base_uri": "https://localhost:8080/"
    },
    "id": "2PU8x5AZt1Az",
    "outputId": "485ee8f8-9764-49cc-ec7a-9b9421bd291a"
   },
   "outputs": [],
   "source": [
    "model.save('de_3meister_RNN_model_v2_100epochs.h5')"
   ]
  },
  {
   "cell_type": "markdown",
   "metadata": {
    "id": "8ihSV2RZssYZ"
   },
   "source": [
    "# 11. Generating the next word predictions"
   ]
  },
  {
   "cell_type": "code",
   "execution_count": 78,
   "metadata": {
    "colab": {
     "base_uri": "https://localhost:8080/"
    },
    "id": "JmnJY8A1stqJ",
    "outputId": "7e9fde24-b650-45f7-9e36-7efb491be3fc"
   },
   "outputs": [
    {
     "name": "stdout",
     "output_type": "stream",
     "text": [
      "1/1 [==============================] - 0s 388ms/step\n",
      "1/1 [==============================] - 0s 112ms/step\n",
      "Es ist ein nur\n"
     ]
    }
   ],
   "source": [
    "from tensorflow.keras.models import load_model\n",
    "# Load the saved model\n",
    "model = load_model('de_3meister_LSTM_model_v2_100epochs.h5')  # Replace 'my_model.h5' with the path to your saved model\n",
    "\n",
    "seed_text = \"Es ist\"\n",
    "next_words = 2\n",
    "\n",
    "for _ in range(next_words):\n",
    "    token_list = tokenizer.texts_to_sequences([seed_text])[0]\n",
    "    token_list = pad_sequences([token_list], maxlen=max_sequence_len - 1, padding='pre')\n",
    "    predicted = np.argmax(model.predict(token_list), axis=-1)\n",
    "    output_word = \"\"\n",
    "    for word, index in tokenizer.word_index.items():\n",
    "        if index == predicted:\n",
    "            output_word = word\n",
    "            break\n",
    "    seed_text += \" \" + output_word\n",
    "\n",
    "print(seed_text)"
   ]
  },
  {
   "cell_type": "code",
   "execution_count": null,
   "metadata": {},
   "outputs": [],
   "source": []
  }
 ],
 "metadata": {
  "accelerator": "GPU",
  "colab": {
   "gpuType": "T4",
   "provenance": []
  },
  "kernelspec": {
   "display_name": "Python 3 (ipykernel)",
   "language": "python",
   "name": "python3"
  },
  "language_info": {
   "codemirror_mode": {
    "name": "ipython",
    "version": 3
   },
   "file_extension": ".py",
   "mimetype": "text/x-python",
   "name": "python",
   "nbconvert_exporter": "python",
   "pygments_lexer": "ipython3",
   "version": "3.10.9"
  }
 },
 "nbformat": 4,
 "nbformat_minor": 1
}
