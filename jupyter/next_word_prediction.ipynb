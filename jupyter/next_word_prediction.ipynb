{
 "cells": [
  {
   "cell_type": "markdown",
   "metadata": {
    "id": "OxeQtQIbgY2U"
   },
   "source": [
    "# 1. Importing Libraries"
   ]
  },
  {
   "cell_type": "code",
   "execution_count": 27,
   "metadata": {
    "id": "ZlkF8wITgblR"
   },
   "outputs": [],
   "source": [
    "import numpy as np\n",
    "import tensorflow as tf\n",
    "from tensorflow.keras.preprocessing.text import Tokenizer\n",
    "from tensorflow.keras.preprocessing.sequence import pad_sequences\n",
    "from tensorflow.keras.models import Sequential\n",
    "from tensorflow.keras.layers import Embedding, LSTM, Dense"
   ]
  },
  {
   "cell_type": "markdown",
   "metadata": {
    "id": "co3_w7hkgp1B"
   },
   "source": [
    "# 2. Loading data"
   ]
  },
  {
   "cell_type": "code",
   "execution_count": 28,
   "metadata": {
    "id": "nR83EmnwgriF"
   },
   "outputs": [],
   "source": [
    "with open('Buddenbrooks1_Thomas-Mann_projekt-Gutenberg_34811-8.txt', 'r') as file:\n",
    "    text = file.read()"
   ]
  },
  {
   "cell_type": "markdown",
   "metadata": {
    "id": "GEOn2FvbgvOZ"
   },
   "source": [
    "# 3. Tokenizing the text to create sequence of words"
   ]
  },
  {
   "cell_type": "code",
   "execution_count": 29,
   "metadata": {
    "id": "ZJz48nfXgynf"
   },
   "outputs": [],
   "source": [
    "tokenizer = Tokenizer()\n",
    "tokenizer.fit_on_texts([text])\n",
    "total_words = len(tokenizer.word_index) + 1"
   ]
  },
  {
   "cell_type": "markdown",
   "metadata": {
    "id": "b9tHzFHog4_Q"
   },
   "source": [
    "# 4. Creating input-output pairs"
   ]
  },
  {
   "cell_type": "code",
   "execution_count": 30,
   "metadata": {
    "id": "7CJ-tqCig9TT"
   },
   "outputs": [],
   "source": [
    "input_sequences = []\n",
    "for line in text.split('\\n'):\n",
    "    token_list = tokenizer.texts_to_sequences([line])[0]\n",
    "    for i in range(1,len(token_list)):\n",
    "        n_gram_sequence = token_list[:i+1]\n",
    "        input_sequences.append(n_gram_sequence)"
   ]
  },
  {
   "cell_type": "markdown",
   "metadata": {
    "id": "UZ5nl_mkhBtC"
   },
   "source": [
    "# 5. Padding input sequences to have equal length"
   ]
  },
  {
   "cell_type": "code",
   "execution_count": 31,
   "metadata": {
    "id": "I9ATEuyVhFJw"
   },
   "outputs": [],
   "source": [
    "max_sequence_len = max([len(seq) for seq in input_sequences])\n",
    "input_sequences = np.array(pad_sequences(input_sequences,maxlen=max_sequence_len, padding='pre'))"
   ]
  },
  {
   "cell_type": "markdown",
   "metadata": {
    "id": "IWGd-m5DhIfJ"
   },
   "source": [
    "# 6. Splitting sequences into input and output"
   ]
  },
  {
   "cell_type": "code",
   "execution_count": 32,
   "metadata": {
    "id": "wX9CPhSQhK3m"
   },
   "outputs": [],
   "source": [
    "X = input_sequences[:,:-1]\n",
    "y = input_sequences[:,-1]"
   ]
  },
  {
   "cell_type": "markdown",
   "metadata": {
    "id": "-Lj1j_lnhSSe"
   },
   "source": [
    "# 7. Converting the output to one-hot encode vectors"
   ]
  },
  {
   "cell_type": "code",
   "execution_count": 33,
   "metadata": {
    "id": "pHzcSwRKhUn0"
   },
   "outputs": [],
   "source": [
    "y = np.array(tf.keras.utils.to_categorical(y,num_classes=total_words))"
   ]
  },
  {
   "cell_type": "markdown",
   "metadata": {
    "id": "zIYGqoaPhZOB"
   },
   "source": [
    "# 8. Building Neural Network Architecture"
   ]
  },
  {
   "cell_type": "code",
   "execution_count": 34,
   "metadata": {
    "colab": {
     "base_uri": "https://localhost:8080/"
    },
    "id": "k2OU6vZ7hb_1",
    "outputId": "9cbab916-5de8-4370-9a20-41f097954262"
   },
   "outputs": [
    {
     "name": "stdout",
     "output_type": "stream",
     "text": [
      "Model: \"sequential_1\"\n",
      "_________________________________________________________________\n",
      " Layer (type)                Output Shape              Param #   \n",
      "=================================================================\n",
      " embedding_1 (Embedding)     (None, 15, 100)           2753300   \n",
      "                                                                 \n",
      " lstm_1 (LSTM)               (None, 150)               150600    \n",
      "                                                                 \n",
      " dense_1 (Dense)             (None, 27533)             4157483   \n",
      "                                                                 \n",
      "=================================================================\n",
      "Total params: 7061383 (26.94 MB)\n",
      "Trainable params: 7061383 (26.94 MB)\n",
      "Non-trainable params: 0 (0.00 Byte)\n",
      "_________________________________________________________________\n",
      "None\n"
     ]
    }
   ],
   "source": [
    "model = Sequential()\n",
    "model.add(Embedding(total_words,100,input_length = max_sequence_len-1))\n",
    "model.add(LSTM(150))\n",
    "model.add(Dense(total_words,activation='softmax'))\n",
    "print(model.summary())"
   ]
  },
  {
   "cell_type": "markdown",
   "metadata": {
    "id": "_fOJJSxihi8n"
   },
   "source": [
    "# 9. Compile and Train the model"
   ]
  },
  {
   "cell_type": "code",
   "execution_count": 35,
   "metadata": {
    "colab": {
     "base_uri": "https://localhost:8080/"
    },
    "id": "Fcywfb9Yhkjy",
    "outputId": "d62ea264-0ed8-4af9-c120-687ca5f54836"
   },
   "outputs": [
    {
     "name": "stdout",
     "output_type": "stream",
     "text": [
      "Epoch 1/100\n",
      "6629/6629 [==============================] - 435s 65ms/step - loss: 7.3447 - accuracy: 0.0546\n",
      "Epoch 2/100\n",
      "6629/6629 [==============================] - 446s 67ms/step - loss: 6.5515 - accuracy: 0.0846\n",
      "Epoch 3/100\n",
      "6629/6629 [==============================] - 443s 67ms/step - loss: 6.0286 - accuracy: 0.1068\n",
      "Epoch 4/100\n",
      "6629/6629 [==============================] - 454s 68ms/step - loss: 5.5395 - accuracy: 0.1296\n",
      "Epoch 5/100\n",
      "6629/6629 [==============================] - 460s 69ms/step - loss: 5.0556 - accuracy: 0.1573\n",
      "Epoch 6/100\n",
      "6629/6629 [==============================] - 469s 71ms/step - loss: 4.5983 - accuracy: 0.1943\n",
      "Epoch 7/100\n",
      "6629/6629 [==============================] - 464s 70ms/step - loss: 4.1789 - accuracy: 0.2414\n",
      "Epoch 8/100\n",
      "6629/6629 [==============================] - 456s 69ms/step - loss: 3.8025 - accuracy: 0.2917\n",
      "Epoch 9/100\n",
      "6629/6629 [==============================] - 463s 70ms/step - loss: 3.4676 - accuracy: 0.3412\n",
      "Epoch 10/100\n",
      "6629/6629 [==============================] - 459s 69ms/step - loss: 3.1720 - accuracy: 0.3869\n",
      "Epoch 11/100\n",
      "6629/6629 [==============================] - 468s 71ms/step - loss: 2.9157 - accuracy: 0.4311\n",
      "Epoch 12/100\n",
      "6629/6629 [==============================] - 464s 70ms/step - loss: 2.6937 - accuracy: 0.4682\n",
      "Epoch 13/100\n",
      "6629/6629 [==============================] - 468s 71ms/step - loss: 2.5024 - accuracy: 0.5023\n",
      "Epoch 14/100\n",
      "6629/6629 [==============================] - 463s 70ms/step - loss: 2.3327 - accuracy: 0.5329\n",
      "Epoch 15/100\n",
      "6629/6629 [==============================] - 456s 69ms/step - loss: 2.1864 - accuracy: 0.5606\n",
      "Epoch 16/100\n",
      "6629/6629 [==============================] - 458s 69ms/step - loss: 2.0603 - accuracy: 0.5821\n",
      "Epoch 17/100\n",
      "6629/6629 [==============================] - 462s 70ms/step - loss: 1.9486 - accuracy: 0.6038\n",
      "Epoch 18/100\n",
      "6629/6629 [==============================] - 456s 69ms/step - loss: 1.8496 - accuracy: 0.6222\n",
      "Epoch 19/100\n",
      "6629/6629 [==============================] - 460s 69ms/step - loss: 1.7622 - accuracy: 0.6381\n",
      "Epoch 20/100\n",
      "6629/6629 [==============================] - 462s 70ms/step - loss: 1.6805 - accuracy: 0.6540\n",
      "Epoch 21/100\n",
      "6629/6629 [==============================] - 464s 70ms/step - loss: 1.6140 - accuracy: 0.6665\n",
      "Epoch 22/100\n",
      "6629/6629 [==============================] - 458s 69ms/step - loss: 1.5482 - accuracy: 0.6779\n",
      "Epoch 23/100\n",
      "6629/6629 [==============================] - 448s 68ms/step - loss: 1.4931 - accuracy: 0.6896\n",
      "Epoch 24/100\n",
      "6629/6629 [==============================] - 448s 68ms/step - loss: 1.4417 - accuracy: 0.6984\n",
      "Epoch 25/100\n",
      "6629/6629 [==============================] - 471s 71ms/step - loss: 1.3941 - accuracy: 0.7076\n",
      "Epoch 26/100\n",
      "6629/6629 [==============================] - 465s 70ms/step - loss: 1.3522 - accuracy: 0.7150\n",
      "Epoch 27/100\n",
      "6629/6629 [==============================] - 458s 69ms/step - loss: 1.3150 - accuracy: 0.7233\n",
      "Epoch 28/100\n",
      "6629/6629 [==============================] - 455s 69ms/step - loss: 1.2791 - accuracy: 0.7289\n",
      "Epoch 29/100\n",
      "6629/6629 [==============================] - 460s 69ms/step - loss: 1.2487 - accuracy: 0.7353\n",
      "Epoch 30/100\n",
      "6629/6629 [==============================] - 456s 69ms/step - loss: 1.2184 - accuracy: 0.7406\n",
      "Epoch 31/100\n",
      "6629/6629 [==============================] - 455s 69ms/step - loss: 1.1894 - accuracy: 0.7466\n",
      "Epoch 32/100\n",
      "6629/6629 [==============================] - 454s 68ms/step - loss: 1.1678 - accuracy: 0.7493\n",
      "Epoch 33/100\n",
      "6629/6629 [==============================] - 454s 69ms/step - loss: 1.1424 - accuracy: 0.7539\n",
      "Epoch 34/100\n",
      "6629/6629 [==============================] - 455s 69ms/step - loss: 1.1199 - accuracy: 0.7585\n",
      "Epoch 35/100\n",
      "6629/6629 [==============================] - 454s 68ms/step - loss: 1.1017 - accuracy: 0.7621\n",
      "Epoch 36/100\n",
      "6629/6629 [==============================] - 440s 66ms/step - loss: 1.0831 - accuracy: 0.7651\n",
      "Epoch 37/100\n",
      "6629/6629 [==============================] - 419s 63ms/step - loss: 1.0664 - accuracy: 0.7677\n",
      "Epoch 38/100\n",
      "6629/6629 [==============================] - 418s 63ms/step - loss: 1.0491 - accuracy: 0.7706\n",
      "Epoch 39/100\n",
      "6629/6629 [==============================] - 419s 63ms/step - loss: 1.0347 - accuracy: 0.7742\n",
      "Epoch 40/100\n",
      "6629/6629 [==============================] - 419s 63ms/step - loss: 1.0217 - accuracy: 0.7755\n",
      "Epoch 41/100\n",
      "6629/6629 [==============================] - 419s 63ms/step - loss: 1.0083 - accuracy: 0.7779\n",
      "Epoch 42/100\n",
      "6629/6629 [==============================] - 419s 63ms/step - loss: 0.9940 - accuracy: 0.7815\n",
      "Epoch 43/100\n",
      "6629/6629 [==============================] - 420s 63ms/step - loss: 0.9864 - accuracy: 0.7825\n",
      "Epoch 44/100\n",
      "6629/6629 [==============================] - 421s 64ms/step - loss: 0.9755 - accuracy: 0.7838\n",
      "Epoch 45/100\n",
      "6629/6629 [==============================] - 420s 63ms/step - loss: 0.9680 - accuracy: 0.7849\n",
      "Epoch 46/100\n",
      "6629/6629 [==============================] - 421s 63ms/step - loss: 0.9565 - accuracy: 0.7878\n",
      "Epoch 47/100\n",
      "6629/6629 [==============================] - 419s 63ms/step - loss: 0.9483 - accuracy: 0.7886\n",
      "Epoch 48/100\n",
      "6629/6629 [==============================] - 421s 63ms/step - loss: 0.9401 - accuracy: 0.7898\n",
      "Epoch 49/100\n",
      "6629/6629 [==============================] - 421s 64ms/step - loss: 0.9316 - accuracy: 0.7916\n",
      "Epoch 50/100\n",
      "6629/6629 [==============================] - 420s 63ms/step - loss: 0.9232 - accuracy: 0.7937\n",
      "Epoch 51/100\n",
      "6629/6629 [==============================] - 420s 63ms/step - loss: 0.9154 - accuracy: 0.7949\n",
      "Epoch 52/100\n",
      "6629/6629 [==============================] - 419s 63ms/step - loss: 0.9115 - accuracy: 0.7959\n",
      "Epoch 53/100\n",
      "6629/6629 [==============================] - 418s 63ms/step - loss: 0.9027 - accuracy: 0.7965\n",
      "Epoch 54/100\n",
      "6629/6629 [==============================] - 418s 63ms/step - loss: 0.9007 - accuracy: 0.7968\n",
      "Epoch 55/100\n",
      "6629/6629 [==============================] - 419s 63ms/step - loss: 0.8930 - accuracy: 0.7981\n",
      "Epoch 56/100\n",
      "6629/6629 [==============================] - 419s 63ms/step - loss: 0.8891 - accuracy: 0.7994\n",
      "Epoch 57/100\n",
      "6629/6629 [==============================] - 434s 65ms/step - loss: 0.8841 - accuracy: 0.8001\n",
      "Epoch 58/100\n",
      "6629/6629 [==============================] - 452s 68ms/step - loss: 0.8806 - accuracy: 0.7999\n",
      "Epoch 59/100\n",
      "6629/6629 [==============================] - 450s 68ms/step - loss: 0.8738 - accuracy: 0.8012\n",
      "Epoch 60/100\n",
      "6629/6629 [==============================] - 424s 64ms/step - loss: 0.8702 - accuracy: 0.8018\n",
      "Epoch 61/100\n",
      "6629/6629 [==============================] - 419s 63ms/step - loss: 0.8671 - accuracy: 0.8026\n",
      "Epoch 62/100\n",
      "6629/6629 [==============================] - 417s 63ms/step - loss: 0.8636 - accuracy: 0.8025\n",
      "Epoch 63/100\n",
      "6629/6629 [==============================] - 419s 63ms/step - loss: 0.8583 - accuracy: 0.8030\n",
      "Epoch 64/100\n",
      "6629/6629 [==============================] - 418s 63ms/step - loss: 0.8555 - accuracy: 0.8038\n",
      "Epoch 65/100\n",
      "6629/6629 [==============================] - 418s 63ms/step - loss: 0.8555 - accuracy: 0.8036\n",
      "Epoch 66/100\n",
      "6629/6629 [==============================] - 419s 63ms/step - loss: 0.8523 - accuracy: 0.8036\n",
      "Epoch 67/100\n",
      "6629/6629 [==============================] - 418s 63ms/step - loss: 0.8491 - accuracy: 0.8048\n",
      "Epoch 68/100\n",
      "6629/6629 [==============================] - 419s 63ms/step - loss: 0.8419 - accuracy: 0.8058\n",
      "Epoch 69/100\n",
      "6629/6629 [==============================] - 419s 63ms/step - loss: 0.8383 - accuracy: 0.8066\n",
      "Epoch 70/100\n",
      "6629/6629 [==============================] - 418s 63ms/step - loss: 0.8391 - accuracy: 0.8063\n",
      "Epoch 71/100\n",
      "6629/6629 [==============================] - 418s 63ms/step - loss: 0.8392 - accuracy: 0.8062\n",
      "Epoch 72/100\n",
      "6629/6629 [==============================] - 419s 63ms/step - loss: 0.8362 - accuracy: 0.8060\n",
      "Epoch 73/100\n",
      "6629/6629 [==============================] - 418s 63ms/step - loss: 0.8308 - accuracy: 0.8072\n",
      "Epoch 74/100\n",
      "6629/6629 [==============================] - 418s 63ms/step - loss: 0.8333 - accuracy: 0.8067\n",
      "Epoch 75/100\n",
      "6629/6629 [==============================] - 417s 63ms/step - loss: 0.8281 - accuracy: 0.8076\n",
      "Epoch 76/100\n",
      "6629/6629 [==============================] - 418s 63ms/step - loss: 0.8287 - accuracy: 0.8067\n",
      "Epoch 77/100\n"
     ]
    },
    {
     "name": "stdout",
     "output_type": "stream",
     "text": [
      "6629/6629 [==============================] - 421s 63ms/step - loss: 0.8273 - accuracy: 0.8076\n",
      "Epoch 78/100\n",
      "6629/6629 [==============================] - 418s 63ms/step - loss: 0.8251 - accuracy: 0.8074\n",
      "Epoch 79/100\n",
      "6629/6629 [==============================] - 418s 63ms/step - loss: 0.8226 - accuracy: 0.8083\n",
      "Epoch 80/100\n",
      "6629/6629 [==============================] - 419s 63ms/step - loss: 0.8231 - accuracy: 0.8073\n",
      "Epoch 81/100\n",
      "6629/6629 [==============================] - 420s 63ms/step - loss: 0.8215 - accuracy: 0.8081\n",
      "Epoch 82/100\n",
      "6629/6629 [==============================] - 454s 68ms/step - loss: 0.8156 - accuracy: 0.8084\n",
      "Epoch 83/100\n",
      "6629/6629 [==============================] - 426s 64ms/step - loss: 0.8176 - accuracy: 0.8082\n",
      "Epoch 84/100\n",
      "6629/6629 [==============================] - 422s 64ms/step - loss: 0.8152 - accuracy: 0.8093\n",
      "Epoch 85/100\n",
      "6629/6629 [==============================] - 421s 63ms/step - loss: 0.8173 - accuracy: 0.8081\n",
      "Epoch 86/100\n",
      "6629/6629 [==============================] - 420s 63ms/step - loss: 0.8157 - accuracy: 0.8081\n",
      "Epoch 87/100\n",
      "6629/6629 [==============================] - 421s 63ms/step - loss: 0.8153 - accuracy: 0.8087\n",
      "Epoch 88/100\n",
      "6629/6629 [==============================] - 419s 63ms/step - loss: 0.8123 - accuracy: 0.8086\n",
      "Epoch 89/100\n",
      "6629/6629 [==============================] - 419s 63ms/step - loss: 0.8081 - accuracy: 0.8099\n",
      "Epoch 90/100\n",
      "6629/6629 [==============================] - 420s 63ms/step - loss: 0.8118 - accuracy: 0.8083\n",
      "Epoch 91/100\n",
      "6629/6629 [==============================] - 419s 63ms/step - loss: 0.8121 - accuracy: 0.8084\n",
      "Epoch 92/100\n",
      "6629/6629 [==============================] - 419s 63ms/step - loss: 0.8072 - accuracy: 0.8090\n",
      "Epoch 93/100\n",
      "6629/6629 [==============================] - 419s 63ms/step - loss: 0.8103 - accuracy: 0.8082\n",
      "Epoch 94/100\n",
      "6629/6629 [==============================] - 422s 64ms/step - loss: 0.8081 - accuracy: 0.8087\n",
      "Epoch 95/100\n",
      "6629/6629 [==============================] - 422s 64ms/step - loss: 0.8113 - accuracy: 0.8074\n",
      "Epoch 96/100\n",
      "6629/6629 [==============================] - 420s 63ms/step - loss: 0.8055 - accuracy: 0.8094\n",
      "Epoch 97/100\n",
      "6629/6629 [==============================] - 420s 63ms/step - loss: 0.8034 - accuracy: 0.8090\n",
      "Epoch 98/100\n",
      "6629/6629 [==============================] - 420s 63ms/step - loss: 0.8074 - accuracy: 0.8076\n",
      "Epoch 99/100\n",
      "6629/6629 [==============================] - 421s 63ms/step - loss: 0.8089 - accuracy: 0.8081\n",
      "Epoch 100/100\n",
      "6629/6629 [==============================] - 422s 64ms/step - loss: 0.8042 - accuracy: 0.8087\n"
     ]
    },
    {
     "data": {
      "text/plain": [
       "<keras.src.callbacks.History at 0x1e0a573e0b0>"
      ]
     },
     "execution_count": 35,
     "metadata": {},
     "output_type": "execute_result"
    }
   ],
   "source": [
    "model.compile(loss='categorical_crossentropy',optimizer='adam',metrics=['accuracy'])\n",
    "model.fit(X,y,epochs=100,verbose=1)"
   ]
  },
  {
   "cell_type": "markdown",
   "metadata": {
    "id": "A1yQdK-Ztxfc"
   },
   "source": [
    "# 10. Saving the model"
   ]
  },
  {
   "cell_type": "code",
   "execution_count": 36,
   "metadata": {
    "colab": {
     "base_uri": "https://localhost:8080/"
    },
    "id": "2PU8x5AZt1Az",
    "outputId": "485ee8f8-9764-49cc-ec7a-9b9421bd291a"
   },
   "outputs": [],
   "source": [
    "model.save('de_buddenbrooks-teil1_LSTM_model_v2_100epochs.h5')"
   ]
  },
  {
   "cell_type": "markdown",
   "metadata": {
    "id": "8ihSV2RZssYZ"
   },
   "source": [
    "# 11. Generating the next word predictions"
   ]
  },
  {
   "cell_type": "code",
   "execution_count": 53,
   "metadata": {
    "colab": {
     "base_uri": "https://localhost:8080/"
    },
    "id": "JmnJY8A1stqJ",
    "outputId": "7e9fde24-b650-45f7-9e36-7efb491be3fc"
   },
   "outputs": [
    {
     "name": "stdout",
     "output_type": "stream",
     "text": [
      "1/1 [==============================] - 0s 368ms/step\n",
      "1/1 [==============================] - 0s 132ms/step\n",
      "1/1 [==============================] - 0s 126ms/step\n",
      "1/1 [==============================] - 0s 123ms/step\n",
      "1/1 [==============================] - 0s 123ms/step\n",
      "1/1 [==============================] - 0s 132ms/step\n",
      "1/1 [==============================] - 0s 132ms/step\n",
      "Die Gräfin konsulin antwortete tony und sogar mit widerwillen\n"
     ]
    }
   ],
   "source": [
    "from tensorflow.keras.models import load_model\n",
    "# Load the saved model\n",
    "model = load_model('de_buddenbrooks-teil1_LSTM_model_v2_100epochs.h5')\n",
    "seed_text = \"Die Gräfin\"\n",
    "next_words = 7\n",
    "\n",
    "for _ in range(next_words):\n",
    "    token_list = tokenizer.texts_to_sequences([seed_text])[0]\n",
    "    token_list = pad_sequences([token_list], maxlen=max_sequence_len - 1, padding='pre')\n",
    "    predicted = np.argmax(model.predict(token_list), axis=-1)\n",
    "    output_word = \"\"\n",
    "    for word, index in tokenizer.word_index.items():\n",
    "        if index == predicted:\n",
    "            output_word = word\n",
    "            break\n",
    "    seed_text += \" \" + output_word\n",
    "\n",
    "print(seed_text)"
   ]
  },
  {
   "cell_type": "code",
   "execution_count": null,
   "metadata": {},
   "outputs": [],
   "source": []
  },
  {
   "cell_type": "code",
   "execution_count": null,
   "metadata": {},
   "outputs": [],
   "source": []
  }
 ],
 "metadata": {
  "accelerator": "GPU",
  "colab": {
   "gpuType": "T4",
   "provenance": []
  },
  "kernelspec": {
   "display_name": "Python 3 (ipykernel)",
   "language": "python",
   "name": "python3"
  },
  "language_info": {
   "codemirror_mode": {
    "name": "ipython",
    "version": 3
   },
   "file_extension": ".py",
   "mimetype": "text/x-python",
   "name": "python",
   "nbconvert_exporter": "python",
   "pygments_lexer": "ipython3",
   "version": "3.10.9"
  }
 },
 "nbformat": 4,
 "nbformat_minor": 1
}
